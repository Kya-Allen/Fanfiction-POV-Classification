{
 "cells": [
  {
   "cell_type": "code",
   "execution_count": 2,
   "id": "e429224e",
   "metadata": {},
   "outputs": [],
   "source": [
    "import pandas as pd\n",
    "import numpy as np\n",
    "import matplotlib.pyplot as plt\n",
    "import Archivist as ao3\n",
    "import csv"
   ]
  },
  {
   "cell_type": "markdown",
   "id": "358fe4d3",
   "metadata": {},
   "source": [
    "### Scraping from Ao3 Search Pages.\n",
    "### Each URL comes from a search page that narrows the search to English Language Fics, With one of the following tags: POV First Person, POV Third Person, POV, POV Third Person Limited, POV Third Person Omniscient, and POV Second Person."
   ]
  },
  {
   "cell_type": "code",
   "execution_count": 8,
   "id": "06296e51",
   "metadata": {},
   "outputs": [],
   "source": [
    "ao3.PageScraperID('https://archiveofourown.org/works?utf8=%E2%9C%93&commit=Sort+and+Filter&work_search%5Bsort_column%5D=title_to_sort_on&work_search%5Bother_tag_names%5D=&work_search%5Bexcluded_tag_names%5D=&work_search%5Bcrossover%5D=&work_search%5Bcomplete%5D=&work_search%5Bwords_from%5D=&work_search%5Bwords_to%5D=&work_search%5Bdate_from%5D=&work_search%5Bdate_to%5D=&work_search%5Bquery%5D=&work_search%5Blanguage_id%5D=en&tag_id=POV+First+Person', pages=8)"
   ]
  },
  {
   "cell_type": "code",
   "execution_count": null,
   "id": "5e779c2d",
   "metadata": {},
   "outputs": [],
   "source": [
    "ao3.WorkIds"
   ]
  },
  {
   "cell_type": "code",
   "execution_count": 10,
   "id": "66775d89",
   "metadata": {},
   "outputs": [
    {
     "data": {
      "text/plain": [
       "160"
      ]
     },
     "execution_count": 10,
     "metadata": {},
     "output_type": "execute_result"
    }
   ],
   "source": [
    "len(ao3.WorkIds)"
   ]
  },
  {
   "cell_type": "code",
   "execution_count": null,
   "id": "949cb779",
   "metadata": {},
   "outputs": [],
   "source": [
    "ao3.WorkTextScraper(ao3.WorkIds)"
   ]
  },
  {
   "cell_type": "code",
   "execution_count": null,
   "id": "78333a6a",
   "metadata": {},
   "outputs": [],
   "source": [
    "ao3.WorkText"
   ]
  },
  {
   "cell_type": "code",
   "execution_count": 20,
   "id": "8d3fe36c",
   "metadata": {},
   "outputs": [
    {
     "data": {
      "text/plain": [
       "86"
      ]
     },
     "execution_count": 20,
     "metadata": {},
     "output_type": "execute_result"
    }
   ],
   "source": [
    "len(ao3.WorkText)"
   ]
  },
  {
   "cell_type": "code",
   "execution_count": null,
   "id": "cc70ec2c",
   "metadata": {},
   "outputs": [],
   "source": [
    "ao3.WorkText[70]"
   ]
  },
  {
   "cell_type": "code",
   "execution_count": 47,
   "id": "0a4e6715",
   "metadata": {},
   "outputs": [
    {
     "data": {
      "text/plain": [
       "86"
      ]
     },
     "execution_count": 47,
     "metadata": {},
     "output_type": "execute_result"
    }
   ],
   "source": [
    "CleanIds = ao3.WorkIds[:86]\n",
    "len(CleanIdsFP)"
   ]
  },
  {
   "cell_type": "code",
   "execution_count": null,
   "id": "8e7db753",
   "metadata": {},
   "outputs": [],
   "source": [
    "FPdict = {'ID': CleanIds, 'Text': ao3.WorkText}\n",
    "FP_Data = pd.DataFrame(FPdict)"
   ]
  },
  {
   "cell_type": "code",
   "execution_count": 50,
   "id": "ce76379d",
   "metadata": {},
   "outputs": [
    {
     "data": {
      "text/html": [
       "<div>\n",
       "<style scoped>\n",
       "    .dataframe tbody tr th:only-of-type {\n",
       "        vertical-align: middle;\n",
       "    }\n",
       "\n",
       "    .dataframe tbody tr th {\n",
       "        vertical-align: top;\n",
       "    }\n",
       "\n",
       "    .dataframe thead th {\n",
       "        text-align: right;\n",
       "    }\n",
       "</style>\n",
       "<table border=\"1\" class=\"dataframe\">\n",
       "  <thead>\n",
       "    <tr style=\"text-align: right;\">\n",
       "      <th></th>\n",
       "      <th>ID</th>\n",
       "      <th>Text</th>\n",
       "    </tr>\n",
       "  </thead>\n",
       "  <tbody>\n",
       "    <tr>\n",
       "      <th>0</th>\n",
       "      <td>3523577</td>\n",
       "      <td>[It’s said that one in every hundred people on...</td>\n",
       "    </tr>\n",
       "    <tr>\n",
       "      <th>1</th>\n",
       "      <td>849526</td>\n",
       "      <td>[I couldn't believe the state the room was in....</td>\n",
       "    </tr>\n",
       "    <tr>\n",
       "      <th>2</th>\n",
       "      <td>16632230</td>\n",
       "      <td>[Hey, morons. Name’s Negasonic Teenage Warhead...</td>\n",
       "    </tr>\n",
       "    <tr>\n",
       "      <th>3</th>\n",
       "      <td>5064814</td>\n",
       "      <td>[He feels like an open wound and I dig my fing...</td>\n",
       "    </tr>\n",
       "    <tr>\n",
       "      <th>4</th>\n",
       "      <td>7823203</td>\n",
       "      <td>[“I never thanked you.” I stiffen at the sound...</td>\n",
       "    </tr>\n",
       "    <tr>\n",
       "      <th>...</th>\n",
       "      <td>...</td>\n",
       "      <td>...</td>\n",
       "    </tr>\n",
       "    <tr>\n",
       "      <th>81</th>\n",
       "      <td>2020833</td>\n",
       "      <td>[-Channel 4 News-Missing Persons!\"Three Missin...</td>\n",
       "    </tr>\n",
       "    <tr>\n",
       "      <th>82</th>\n",
       "      <td>8729506</td>\n",
       "      <td>[I ran down the hill, tripping over the hem of...</td>\n",
       "    </tr>\n",
       "    <tr>\n",
       "      <th>83</th>\n",
       "      <td>1045765</td>\n",
       "      <td>[Matthew is nervous.\\nHe doesn’t sit next to m...</td>\n",
       "    </tr>\n",
       "    <tr>\n",
       "      <th>84</th>\n",
       "      <td>9447923</td>\n",
       "      <td>[Being your slave, what should I do but tend U...</td>\n",
       "    </tr>\n",
       "    <tr>\n",
       "      <th>85</th>\n",
       "      <td>29033007</td>\n",
       "      <td>[It was on the deck of the Rachel that I so fo...</td>\n",
       "    </tr>\n",
       "  </tbody>\n",
       "</table>\n",
       "<p>86 rows × 2 columns</p>\n",
       "</div>"
      ],
      "text/plain": [
       "          ID                                               Text\n",
       "0    3523577  [It’s said that one in every hundred people on...\n",
       "1     849526  [I couldn't believe the state the room was in....\n",
       "2   16632230  [Hey, morons. Name’s Negasonic Teenage Warhead...\n",
       "3    5064814  [He feels like an open wound and I dig my fing...\n",
       "4    7823203  [“I never thanked you.” I stiffen at the sound...\n",
       "..       ...                                                ...\n",
       "81   2020833  [-Channel 4 News-Missing Persons!\"Three Missin...\n",
       "82   8729506  [I ran down the hill, tripping over the hem of...\n",
       "83   1045765  [Matthew is nervous.\\nHe doesn’t sit next to m...\n",
       "84   9447923  [Being your slave, what should I do but tend U...\n",
       "85  29033007  [It was on the deck of the Rachel that I so fo...\n",
       "\n",
       "[86 rows x 2 columns]"
      ]
     },
     "execution_count": 50,
     "metadata": {},
     "output_type": "execute_result"
    }
   ],
   "source": [
    "FP_Data"
   ]
  },
  {
   "cell_type": "code",
   "execution_count": 40,
   "id": "d98cbb4b",
   "metadata": {},
   "outputs": [],
   "source": [
    "ao3.PageScraperID('https://archiveofourown.org/works?utf8=%E2%9C%93&work_search%5Bsort_column%5D=title_to_sort_on&work_search%5Bother_tag_names%5D=&work_search%5Bexcluded_tag_names%5D=&work_search%5Bcrossover%5D=&work_search%5Bcomplete%5D=&work_search%5Bwords_from%5D=&work_search%5Bwords_to%5D=&work_search%5Bdate_from%5D=&work_search%5Bdate_to%5D=&work_search%5Bquery%5D=&work_search%5Blanguage_id%5D=en&commit=Sort+and+Filter&tag_id=POV+Third+Person', pages=5)"
   ]
  },
  {
   "cell_type": "code",
   "execution_count": 42,
   "id": "30ff8cc7",
   "metadata": {},
   "outputs": [
    {
     "data": {
      "text/plain": [
       "100"
      ]
     },
     "execution_count": 42,
     "metadata": {},
     "output_type": "execute_result"
    }
   ],
   "source": [
    "len(ao3.WorkIds)"
   ]
  },
  {
   "cell_type": "code",
   "execution_count": null,
   "id": "17b03f17",
   "metadata": {},
   "outputs": [],
   "source": [
    "ao3.WorkTextScraper(ao3.WorkIds)"
   ]
  },
  {
   "cell_type": "code",
   "execution_count": 46,
   "id": "fc95b70c",
   "metadata": {},
   "outputs": [
    {
     "data": {
      "text/plain": [
       "89"
      ]
     },
     "execution_count": 46,
     "metadata": {},
     "output_type": "execute_result"
    }
   ],
   "source": [
    "len(ao3.WorkText)"
   ]
  },
  {
   "cell_type": "code",
   "execution_count": 54,
   "id": "79e8f4bb",
   "metadata": {},
   "outputs": [
    {
     "data": {
      "text/html": [
       "<div>\n",
       "<style scoped>\n",
       "    .dataframe tbody tr th:only-of-type {\n",
       "        vertical-align: middle;\n",
       "    }\n",
       "\n",
       "    .dataframe tbody tr th {\n",
       "        vertical-align: top;\n",
       "    }\n",
       "\n",
       "    .dataframe thead th {\n",
       "        text-align: right;\n",
       "    }\n",
       "</style>\n",
       "<table border=\"1\" class=\"dataframe\">\n",
       "  <thead>\n",
       "    <tr style=\"text-align: right;\">\n",
       "      <th></th>\n",
       "      <th>ID</th>\n",
       "      <th>Text</th>\n",
       "    </tr>\n",
       "  </thead>\n",
       "  <tbody>\n",
       "    <tr>\n",
       "      <th>0</th>\n",
       "      <td>28038702</td>\n",
       "      <td>[Crossing the borderline of black and white, c...</td>\n",
       "    </tr>\n",
       "    <tr>\n",
       "      <th>1</th>\n",
       "      <td>17345945</td>\n",
       "      <td>[ , \\n❌❗🔦🔪🔦❗❌\\n,  , \\nHe\\n h4D\\n to do it. It ...</td>\n",
       "    </tr>\n",
       "    <tr>\n",
       "      <th>2</th>\n",
       "      <td>20273254</td>\n",
       "      <td>[It was a busy day when the pensive - looking ...</td>\n",
       "    </tr>\n",
       "    <tr>\n",
       "      <th>3</th>\n",
       "      <td>11449785</td>\n",
       "      <td>[\\n\\n, It's another dreaded week at Busan High...</td>\n",
       "    </tr>\n",
       "    <tr>\n",
       "      <th>4</th>\n",
       "      <td>17905103</td>\n",
       "      <td>[Michael Torres loved football. More specifica...</td>\n",
       "    </tr>\n",
       "    <tr>\n",
       "      <th>...</th>\n",
       "      <td>...</td>\n",
       "      <td>...</td>\n",
       "    </tr>\n",
       "    <tr>\n",
       "      <th>84</th>\n",
       "      <td>2368880</td>\n",
       "      <td>[My first day at work was boring., I mean, you...</td>\n",
       "    </tr>\n",
       "    <tr>\n",
       "      <th>85</th>\n",
       "      <td>102500</td>\n",
       "      <td>[BlessingA Sacred Eucharist tastes like paper....</td>\n",
       "    </tr>\n",
       "    <tr>\n",
       "      <th>86</th>\n",
       "      <td>24688792</td>\n",
       "      <td>[Nico is 13., He has already lost family membe...</td>\n",
       "    </tr>\n",
       "    <tr>\n",
       "      <th>87</th>\n",
       "      <td>13870647</td>\n",
       "      <td>[24, Chapter 1- 11:32am. 25 hours left until T...</td>\n",
       "    </tr>\n",
       "    <tr>\n",
       "      <th>88</th>\n",
       "      <td>28180230</td>\n",
       "      <td>[“Shit…!” , V hissed in unison with the bullet...</td>\n",
       "    </tr>\n",
       "  </tbody>\n",
       "</table>\n",
       "<p>89 rows × 2 columns</p>\n",
       "</div>"
      ],
      "text/plain": [
       "          ID                                               Text\n",
       "0   28038702  [Crossing the borderline of black and white, c...\n",
       "1   17345945  [ , \\n❌❗🔦🔪🔦❗❌\\n,  , \\nHe\\n h4D\\n to do it. It ...\n",
       "2   20273254  [It was a busy day when the pensive - looking ...\n",
       "3   11449785  [\\n\\n, It's another dreaded week at Busan High...\n",
       "4   17905103  [Michael Torres loved football. More specifica...\n",
       "..       ...                                                ...\n",
       "84   2368880  [My first day at work was boring., I mean, you...\n",
       "85    102500  [BlessingA Sacred Eucharist tastes like paper....\n",
       "86  24688792  [Nico is 13., He has already lost family membe...\n",
       "87  13870647  [24, Chapter 1- 11:32am. 25 hours left until T...\n",
       "88  28180230  [“Shit…!” , V hissed in unison with the bullet...\n",
       "\n",
       "[89 rows x 2 columns]"
      ]
     },
     "execution_count": 54,
     "metadata": {},
     "output_type": "execute_result"
    }
   ],
   "source": [
    "CleanIdsTP = ao3.WorkIds[:89]\n",
    "TPdict = {'ID': CleanIdsTP, 'Text': ao3.WorkText}\n",
    "TP_Data = pd.DataFrame(TPdict)\n",
    "TP_Data"
   ]
  },
  {
   "cell_type": "code",
   "execution_count": 55,
   "id": "17221198",
   "metadata": {},
   "outputs": [],
   "source": [
    "ao3.PageScraperID('https://archiveofourown.org/works?utf8=%E2%9C%93&work_search%5Bsort_column%5D=title_to_sort_on&work_search%5Bother_tag_names%5D=&work_search%5Bexcluded_tag_names%5D=&work_search%5Bcrossover%5D=&work_search%5Bcomplete%5D=&work_search%5Bwords_from%5D=&work_search%5Bwords_to%5D=&work_search%5Bdate_from%5D=&work_search%5Bdate_to%5D=&work_search%5Bquery%5D=&work_search%5Blanguage_id%5D=en&commit=Sort+and+Filter&tag_id=POV+Third+Person+Limited', pages=3)"
   ]
  },
  {
   "cell_type": "code",
   "execution_count": 56,
   "id": "b5609698",
   "metadata": {},
   "outputs": [
    {
     "data": {
      "text/plain": [
       "60"
      ]
     },
     "execution_count": 56,
     "metadata": {},
     "output_type": "execute_result"
    }
   ],
   "source": [
    "len(ao3.WorkIds)"
   ]
  },
  {
   "cell_type": "code",
   "execution_count": 57,
   "id": "2dfbf70b",
   "metadata": {},
   "outputs": [],
   "source": [
    "ao3.WorkTextScraper(ao3.WorkIds)"
   ]
  },
  {
   "cell_type": "code",
   "execution_count": 58,
   "id": "75f87045",
   "metadata": {},
   "outputs": [
    {
     "data": {
      "text/plain": [
       "60"
      ]
     },
     "execution_count": 58,
     "metadata": {},
     "output_type": "execute_result"
    }
   ],
   "source": [
    "len(ao3.WorkText)"
   ]
  },
  {
   "cell_type": "code",
   "execution_count": 62,
   "id": "56dbd5da",
   "metadata": {},
   "outputs": [
    {
     "data": {
      "text/html": [
       "<div>\n",
       "<style scoped>\n",
       "    .dataframe tbody tr th:only-of-type {\n",
       "        vertical-align: middle;\n",
       "    }\n",
       "\n",
       "    .dataframe tbody tr th {\n",
       "        vertical-align: top;\n",
       "    }\n",
       "\n",
       "    .dataframe thead th {\n",
       "        text-align: right;\n",
       "    }\n",
       "</style>\n",
       "<table border=\"1\" class=\"dataframe\">\n",
       "  <thead>\n",
       "    <tr style=\"text-align: right;\">\n",
       "      <th></th>\n",
       "      <th>ID</th>\n",
       "      <th>Text</th>\n",
       "    </tr>\n",
       "  </thead>\n",
       "  <tbody>\n",
       "    <tr>\n",
       "      <th>0</th>\n",
       "      <td>20273254</td>\n",
       "      <td>[It was a busy day when the pensive - looking ...</td>\n",
       "    </tr>\n",
       "    <tr>\n",
       "      <th>1</th>\n",
       "      <td>30280434</td>\n",
       "      <td>[Bzzzzt. Bzzzzt. Bzzzzt. Bzzzzzzzzt., Riku sig...</td>\n",
       "    </tr>\n",
       "    <tr>\n",
       "      <th>2</th>\n",
       "      <td>11806653</td>\n",
       "      <td>[Lucifer was going to kill whomever started th...</td>\n",
       "    </tr>\n",
       "    <tr>\n",
       "      <th>3</th>\n",
       "      <td>28081440</td>\n",
       "      <td>[Gaby wakes in the morning, feeling wrung out....</td>\n",
       "    </tr>\n",
       "    <tr>\n",
       "      <th>4</th>\n",
       "      <td>13390605</td>\n",
       "      <td>[ ,  , Michael remembers Gabriel saying \"I don...</td>\n",
       "    </tr>\n",
       "  </tbody>\n",
       "</table>\n",
       "</div>"
      ],
      "text/plain": [
       "         ID                                               Text\n",
       "0  20273254  [It was a busy day when the pensive - looking ...\n",
       "1  30280434  [Bzzzzt. Bzzzzt. Bzzzzt. Bzzzzzzzzt., Riku sig...\n",
       "2  11806653  [Lucifer was going to kill whomever started th...\n",
       "3  28081440  [Gaby wakes in the morning, feeling wrung out....\n",
       "4  13390605  [ ,  , Michael remembers Gabriel saying \"I don..."
      ]
     },
     "execution_count": 62,
     "metadata": {},
     "output_type": "execute_result"
    }
   ],
   "source": [
    "TpLimDict = {'ID': ao3.WorkIds, 'Text': ao3.WorkText}\n",
    "TpLimData = pd.DataFrame(TpLimDict)\n",
    "TpLimData.head()"
   ]
  },
  {
   "cell_type": "code",
   "execution_count": 63,
   "id": "3e1fc667",
   "metadata": {},
   "outputs": [],
   "source": [
    "ao3.PageScraperID('https://archiveofourown.org/works?utf8=%E2%9C%93&work_search%5Bsort_column%5D=title_to_sort_on&work_search%5Bother_tag_names%5D=&work_search%5Bexcluded_tag_names%5D=&work_search%5Bcrossover%5D=&work_search%5Bcomplete%5D=&work_search%5Bwords_from%5D=&work_search%5Bwords_to%5D=&work_search%5Bdate_from%5D=&work_search%5Bdate_to%5D=&work_search%5Bquery%5D=&work_search%5Blanguage_id%5D=en&commit=Sort+and+Filter&tag_id=POV+Third+Person+Omniscient', pages=3)"
   ]
  },
  {
   "cell_type": "code",
   "execution_count": 64,
   "id": "a8c44076",
   "metadata": {},
   "outputs": [],
   "source": [
    "ao3.WorkTextScraper(ao3.WorkIds)"
   ]
  },
  {
   "cell_type": "code",
   "execution_count": 68,
   "id": "07feac81",
   "metadata": {},
   "outputs": [
    {
     "data": {
      "text/html": [
       "<div>\n",
       "<style scoped>\n",
       "    .dataframe tbody tr th:only-of-type {\n",
       "        vertical-align: middle;\n",
       "    }\n",
       "\n",
       "    .dataframe tbody tr th {\n",
       "        vertical-align: top;\n",
       "    }\n",
       "\n",
       "    .dataframe thead th {\n",
       "        text-align: right;\n",
       "    }\n",
       "</style>\n",
       "<table border=\"1\" class=\"dataframe\">\n",
       "  <thead>\n",
       "    <tr style=\"text-align: right;\">\n",
       "      <th></th>\n",
       "      <th>ID</th>\n",
       "      <th>Text</th>\n",
       "    </tr>\n",
       "  </thead>\n",
       "  <tbody>\n",
       "    <tr>\n",
       "      <th>0</th>\n",
       "      <td>20461682</td>\n",
       "      <td>[Some things were worth the sacrifice., This w...</td>\n",
       "    </tr>\n",
       "    <tr>\n",
       "      <th>1</th>\n",
       "      <td>3349259</td>\n",
       "      <td>[Dean shuffled into the bunker’s dimly-lit lib...</td>\n",
       "    </tr>\n",
       "    <tr>\n",
       "      <th>2</th>\n",
       "      <td>1494241</td>\n",
       "      <td>[“What a heck of a day!” John Watson sighed de...</td>\n",
       "    </tr>\n",
       "    <tr>\n",
       "      <th>3</th>\n",
       "      <td>14496567</td>\n",
       "      <td>[Simon didn’t know how he’d ended up here. In ...</td>\n",
       "    </tr>\n",
       "    <tr>\n",
       "      <th>4</th>\n",
       "      <td>13832595</td>\n",
       "      <td>[If you hate your job, quit. It’s that simple....</td>\n",
       "    </tr>\n",
       "  </tbody>\n",
       "</table>\n",
       "</div>"
      ],
      "text/plain": [
       "         ID                                               Text\n",
       "0  20461682  [Some things were worth the sacrifice., This w...\n",
       "1   3349259  [Dean shuffled into the bunker’s dimly-lit lib...\n",
       "2   1494241  [“What a heck of a day!” John Watson sighed de...\n",
       "3  14496567  [Simon didn’t know how he’d ended up here. In ...\n",
       "4  13832595  [If you hate your job, quit. It’s that simple...."
      ]
     },
     "execution_count": 68,
     "metadata": {},
     "output_type": "execute_result"
    }
   ],
   "source": [
    "TpOmDict = {'ID': ao3.WorkIds, 'Text': ao3.WorkText}\n",
    "TpOmData = pd.DataFrame(TpOmDict)\n",
    "TpOmData.head()"
   ]
  },
  {
   "cell_type": "code",
   "execution_count": 69,
   "id": "8ca1d79a",
   "metadata": {},
   "outputs": [],
   "source": [
    "ao3.PageScraperID('https://archiveofourown.org/works?utf8=%E2%9C%93&work_search%5Bsort_column%5D=title_to_sort_on&work_search%5Bother_tag_names%5D=&work_search%5Bexcluded_tag_names%5D=&work_search%5Bcrossover%5D=&work_search%5Bcomplete%5D=&work_search%5Bwords_from%5D=&work_search%5Bwords_to%5D=&work_search%5Bdate_from%5D=&work_search%5Bdate_to%5D=&work_search%5Bquery%5D=&work_search%5Blanguage_id%5D=en&commit=Sort+and+Filter&tag_id=POV+Second+Person', pages=4)"
   ]
  },
  {
   "cell_type": "code",
   "execution_count": 70,
   "id": "cf394b9e",
   "metadata": {},
   "outputs": [],
   "source": [
    "ao3.WorkTextScraper(ao3.WorkIds)"
   ]
  },
  {
   "cell_type": "code",
   "execution_count": 73,
   "id": "0fadf0a3",
   "metadata": {},
   "outputs": [
    {
     "data": {
      "text/html": [
       "<div>\n",
       "<style scoped>\n",
       "    .dataframe tbody tr th:only-of-type {\n",
       "        vertical-align: middle;\n",
       "    }\n",
       "\n",
       "    .dataframe tbody tr th {\n",
       "        vertical-align: top;\n",
       "    }\n",
       "\n",
       "    .dataframe thead th {\n",
       "        text-align: right;\n",
       "    }\n",
       "</style>\n",
       "<table border=\"1\" class=\"dataframe\">\n",
       "  <thead>\n",
       "    <tr style=\"text-align: right;\">\n",
       "      <th></th>\n",
       "      <th>ID</th>\n",
       "      <th>Text</th>\n",
       "    </tr>\n",
       "  </thead>\n",
       "  <tbody>\n",
       "    <tr>\n",
       "      <th>0</th>\n",
       "      <td>1873059</td>\n",
       "      <td>[You thought it would be easy to find him foll...</td>\n",
       "    </tr>\n",
       "    <tr>\n",
       "      <th>1</th>\n",
       "      <td>15729375</td>\n",
       "      <td>[ , Raw, unbridled passion. , It finds your li...</td>\n",
       "    </tr>\n",
       "    <tr>\n",
       "      <th>2</th>\n",
       "      <td>21143303</td>\n",
       "      <td>[“I don’t get humans,” you say for the umpteen...</td>\n",
       "    </tr>\n",
       "    <tr>\n",
       "      <th>3</th>\n",
       "      <td>7254226</td>\n",
       "      <td>[A young man stands in his father’s study, a s...</td>\n",
       "    </tr>\n",
       "    <tr>\n",
       "      <th>4</th>\n",
       "      <td>11795490</td>\n",
       "      <td>[You’ve heard the rumors, the whisperings behi...</td>\n",
       "    </tr>\n",
       "    <tr>\n",
       "      <th>...</th>\n",
       "      <td>...</td>\n",
       "      <td>...</td>\n",
       "    </tr>\n",
       "    <tr>\n",
       "      <th>75</th>\n",
       "      <td>13468155</td>\n",
       "      <td>[A fresh wind whips your hair about your face ...</td>\n",
       "    </tr>\n",
       "    <tr>\n",
       "      <th>76</th>\n",
       "      <td>18465379</td>\n",
       "      <td>[You look over at your beautiful wife, and you...</td>\n",
       "    </tr>\n",
       "    <tr>\n",
       "      <th>77</th>\n",
       "      <td>7873861</td>\n",
       "      <td>[“Axel, what were you trying to do?”, Isn’t th...</td>\n",
       "    </tr>\n",
       "    <tr>\n",
       "      <th>78</th>\n",
       "      <td>27969794</td>\n",
       "      <td>[People pray differently. Some to deities, Apo...</td>\n",
       "    </tr>\n",
       "    <tr>\n",
       "      <th>79</th>\n",
       "      <td>30750275</td>\n",
       "      <td>[The world is not kind to Hawks., You had made...</td>\n",
       "    </tr>\n",
       "  </tbody>\n",
       "</table>\n",
       "<p>80 rows × 2 columns</p>\n",
       "</div>"
      ],
      "text/plain": [
       "          ID                                               Text\n",
       "0    1873059  [You thought it would be easy to find him foll...\n",
       "1   15729375  [ , Raw, unbridled passion. , It finds your li...\n",
       "2   21143303  [“I don’t get humans,” you say for the umpteen...\n",
       "3    7254226  [A young man stands in his father’s study, a s...\n",
       "4   11795490  [You’ve heard the rumors, the whisperings behi...\n",
       "..       ...                                                ...\n",
       "75  13468155  [A fresh wind whips your hair about your face ...\n",
       "76  18465379  [You look over at your beautiful wife, and you...\n",
       "77   7873861  [“Axel, what were you trying to do?”, Isn’t th...\n",
       "78  27969794  [People pray differently. Some to deities, Apo...\n",
       "79  30750275  [The world is not kind to Hawks., You had made...\n",
       "\n",
       "[80 rows x 2 columns]"
      ]
     },
     "execution_count": 73,
     "metadata": {},
     "output_type": "execute_result"
    }
   ],
   "source": [
    "SPdict = {'ID': ao3.WorkIds, 'Text': ao3.WorkText}\n",
    "SPdata = pd.DataFrame(SPdict)\n",
    "SPdata"
   ]
  },
  {
   "cell_type": "code",
   "execution_count": 75,
   "id": "f93593c5",
   "metadata": {},
   "outputs": [
    {
     "data": {
      "text/html": [
       "<div>\n",
       "<style scoped>\n",
       "    .dataframe tbody tr th:only-of-type {\n",
       "        vertical-align: middle;\n",
       "    }\n",
       "\n",
       "    .dataframe tbody tr th {\n",
       "        vertical-align: top;\n",
       "    }\n",
       "\n",
       "    .dataframe thead th {\n",
       "        text-align: right;\n",
       "    }\n",
       "</style>\n",
       "<table border=\"1\" class=\"dataframe\">\n",
       "  <thead>\n",
       "    <tr style=\"text-align: right;\">\n",
       "      <th></th>\n",
       "      <th>ID</th>\n",
       "      <th>Text</th>\n",
       "      <th>POV</th>\n",
       "    </tr>\n",
       "  </thead>\n",
       "  <tbody>\n",
       "    <tr>\n",
       "      <th>0</th>\n",
       "      <td>1873059</td>\n",
       "      <td>[You thought it would be easy to find him foll...</td>\n",
       "      <td>SP</td>\n",
       "    </tr>\n",
       "    <tr>\n",
       "      <th>1</th>\n",
       "      <td>15729375</td>\n",
       "      <td>[ , Raw, unbridled passion. , It finds your li...</td>\n",
       "      <td>SP</td>\n",
       "    </tr>\n",
       "    <tr>\n",
       "      <th>2</th>\n",
       "      <td>21143303</td>\n",
       "      <td>[“I don’t get humans,” you say for the umpteen...</td>\n",
       "      <td>SP</td>\n",
       "    </tr>\n",
       "    <tr>\n",
       "      <th>3</th>\n",
       "      <td>7254226</td>\n",
       "      <td>[A young man stands in his father’s study, a s...</td>\n",
       "      <td>SP</td>\n",
       "    </tr>\n",
       "    <tr>\n",
       "      <th>4</th>\n",
       "      <td>11795490</td>\n",
       "      <td>[You’ve heard the rumors, the whisperings behi...</td>\n",
       "      <td>SP</td>\n",
       "    </tr>\n",
       "    <tr>\n",
       "      <th>...</th>\n",
       "      <td>...</td>\n",
       "      <td>...</td>\n",
       "      <td>...</td>\n",
       "    </tr>\n",
       "    <tr>\n",
       "      <th>75</th>\n",
       "      <td>13468155</td>\n",
       "      <td>[A fresh wind whips your hair about your face ...</td>\n",
       "      <td>SP</td>\n",
       "    </tr>\n",
       "    <tr>\n",
       "      <th>76</th>\n",
       "      <td>18465379</td>\n",
       "      <td>[You look over at your beautiful wife, and you...</td>\n",
       "      <td>SP</td>\n",
       "    </tr>\n",
       "    <tr>\n",
       "      <th>77</th>\n",
       "      <td>7873861</td>\n",
       "      <td>[“Axel, what were you trying to do?”, Isn’t th...</td>\n",
       "      <td>SP</td>\n",
       "    </tr>\n",
       "    <tr>\n",
       "      <th>78</th>\n",
       "      <td>27969794</td>\n",
       "      <td>[People pray differently. Some to deities, Apo...</td>\n",
       "      <td>SP</td>\n",
       "    </tr>\n",
       "    <tr>\n",
       "      <th>79</th>\n",
       "      <td>30750275</td>\n",
       "      <td>[The world is not kind to Hawks., You had made...</td>\n",
       "      <td>SP</td>\n",
       "    </tr>\n",
       "  </tbody>\n",
       "</table>\n",
       "<p>80 rows × 3 columns</p>\n",
       "</div>"
      ],
      "text/plain": [
       "          ID                                               Text POV\n",
       "0    1873059  [You thought it would be easy to find him foll...  SP\n",
       "1   15729375  [ , Raw, unbridled passion. , It finds your li...  SP\n",
       "2   21143303  [“I don’t get humans,” you say for the umpteen...  SP\n",
       "3    7254226  [A young man stands in his father’s study, a s...  SP\n",
       "4   11795490  [You’ve heard the rumors, the whisperings behi...  SP\n",
       "..       ...                                                ...  ..\n",
       "75  13468155  [A fresh wind whips your hair about your face ...  SP\n",
       "76  18465379  [You look over at your beautiful wife, and you...  SP\n",
       "77   7873861  [“Axel, what were you trying to do?”, Isn’t th...  SP\n",
       "78  27969794  [People pray differently. Some to deities, Apo...  SP\n",
       "79  30750275  [The world is not kind to Hawks., You had made...  SP\n",
       "\n",
       "[80 rows x 3 columns]"
      ]
     },
     "execution_count": 75,
     "metadata": {},
     "output_type": "execute_result"
    }
   ],
   "source": [
    "SPdata['POV'] = 'SP'\n",
    "SPdata"
   ]
  },
  {
   "cell_type": "code",
   "execution_count": 77,
   "id": "061e12bb",
   "metadata": {},
   "outputs": [
    {
     "data": {
      "text/html": [
       "<div>\n",
       "<style scoped>\n",
       "    .dataframe tbody tr th:only-of-type {\n",
       "        vertical-align: middle;\n",
       "    }\n",
       "\n",
       "    .dataframe tbody tr th {\n",
       "        vertical-align: top;\n",
       "    }\n",
       "\n",
       "    .dataframe thead th {\n",
       "        text-align: right;\n",
       "    }\n",
       "</style>\n",
       "<table border=\"1\" class=\"dataframe\">\n",
       "  <thead>\n",
       "    <tr style=\"text-align: right;\">\n",
       "      <th></th>\n",
       "      <th>ID</th>\n",
       "      <th>Text</th>\n",
       "      <th>POV</th>\n",
       "    </tr>\n",
       "  </thead>\n",
       "  <tbody>\n",
       "    <tr>\n",
       "      <th>0</th>\n",
       "      <td>20461682</td>\n",
       "      <td>[Some things were worth the sacrifice., This w...</td>\n",
       "      <td>TP_Omni</td>\n",
       "    </tr>\n",
       "    <tr>\n",
       "      <th>1</th>\n",
       "      <td>3349259</td>\n",
       "      <td>[Dean shuffled into the bunker’s dimly-lit lib...</td>\n",
       "      <td>TP_Omni</td>\n",
       "    </tr>\n",
       "    <tr>\n",
       "      <th>2</th>\n",
       "      <td>1494241</td>\n",
       "      <td>[“What a heck of a day!” John Watson sighed de...</td>\n",
       "      <td>TP_Omni</td>\n",
       "    </tr>\n",
       "    <tr>\n",
       "      <th>3</th>\n",
       "      <td>14496567</td>\n",
       "      <td>[Simon didn’t know how he’d ended up here. In ...</td>\n",
       "      <td>TP_Omni</td>\n",
       "    </tr>\n",
       "    <tr>\n",
       "      <th>4</th>\n",
       "      <td>13832595</td>\n",
       "      <td>[If you hate your job, quit. It’s that simple....</td>\n",
       "      <td>TP_Omni</td>\n",
       "    </tr>\n",
       "    <tr>\n",
       "      <th>5</th>\n",
       "      <td>13511538</td>\n",
       "      <td>[Prison was a special kind of torture for Barr...</td>\n",
       "      <td>TP_Omni</td>\n",
       "    </tr>\n",
       "    <tr>\n",
       "      <th>6</th>\n",
       "      <td>4911742</td>\n",
       "      <td>[I , Among twenty rotting skyscrapers,\\nThe on...</td>\n",
       "      <td>TP_Omni</td>\n",
       "    </tr>\n",
       "    <tr>\n",
       "      <th>7</th>\n",
       "      <td>12051</td>\n",
       "      <td>[When Snyder was passing through that loathsom...</td>\n",
       "      <td>TP_Omni</td>\n",
       "    </tr>\n",
       "  </tbody>\n",
       "</table>\n",
       "</div>"
      ],
      "text/plain": [
       "         ID                                               Text      POV\n",
       "0  20461682  [Some things were worth the sacrifice., This w...  TP_Omni\n",
       "1   3349259  [Dean shuffled into the bunker’s dimly-lit lib...  TP_Omni\n",
       "2   1494241  [“What a heck of a day!” John Watson sighed de...  TP_Omni\n",
       "3  14496567  [Simon didn’t know how he’d ended up here. In ...  TP_Omni\n",
       "4  13832595  [If you hate your job, quit. It’s that simple....  TP_Omni\n",
       "5  13511538  [Prison was a special kind of torture for Barr...  TP_Omni\n",
       "6   4911742  [I , Among twenty rotting skyscrapers,\\nThe on...  TP_Omni\n",
       "7     12051  [When Snyder was passing through that loathsom...  TP_Omni"
      ]
     },
     "execution_count": 77,
     "metadata": {},
     "output_type": "execute_result"
    }
   ],
   "source": [
    "FP_Data['POV'] = 'FP'\n",
    "TP_Data['POV'] = 'TP'\n",
    "TpLimData['POV'] = 'TP_Lim'\n",
    "TpOmData['POV'] = 'TP_Omni'\n",
    "TpOmData.head(8)"
   ]
  },
  {
   "cell_type": "code",
   "execution_count": 91,
   "id": "3bfc9b58",
   "metadata": {},
   "outputs": [
    {
     "data": {
      "text/html": [
       "<div>\n",
       "<style scoped>\n",
       "    .dataframe tbody tr th:only-of-type {\n",
       "        vertical-align: middle;\n",
       "    }\n",
       "\n",
       "    .dataframe tbody tr th {\n",
       "        vertical-align: top;\n",
       "    }\n",
       "\n",
       "    .dataframe thead th {\n",
       "        text-align: right;\n",
       "    }\n",
       "</style>\n",
       "<table border=\"1\" class=\"dataframe\">\n",
       "  <thead>\n",
       "    <tr style=\"text-align: right;\">\n",
       "      <th></th>\n",
       "      <th>ID</th>\n",
       "      <th>Text</th>\n",
       "      <th>POV</th>\n",
       "    </tr>\n",
       "  </thead>\n",
       "  <tbody>\n",
       "    <tr>\n",
       "      <th>0</th>\n",
       "      <td>1873059</td>\n",
       "      <td>[You thought it would be easy to find him foll...</td>\n",
       "      <td>SP</td>\n",
       "    </tr>\n",
       "    <tr>\n",
       "      <th>1</th>\n",
       "      <td>15729375</td>\n",
       "      <td>[ , Raw, unbridled passion. , It finds your li...</td>\n",
       "      <td>SP</td>\n",
       "    </tr>\n",
       "    <tr>\n",
       "      <th>2</th>\n",
       "      <td>21143303</td>\n",
       "      <td>[“I don’t get humans,” you say for the umpteen...</td>\n",
       "      <td>SP</td>\n",
       "    </tr>\n",
       "    <tr>\n",
       "      <th>3</th>\n",
       "      <td>7254226</td>\n",
       "      <td>[A young man stands in his father’s study, a s...</td>\n",
       "      <td>SP</td>\n",
       "    </tr>\n",
       "    <tr>\n",
       "      <th>4</th>\n",
       "      <td>11795490</td>\n",
       "      <td>[You’ve heard the rumors, the whisperings behi...</td>\n",
       "      <td>SP</td>\n",
       "    </tr>\n",
       "    <tr>\n",
       "      <th>...</th>\n",
       "      <td>...</td>\n",
       "      <td>...</td>\n",
       "      <td>...</td>\n",
       "    </tr>\n",
       "    <tr>\n",
       "      <th>55</th>\n",
       "      <td>24032950</td>\n",
       "      <td>[Castiel stood in front of a blonde woman whil...</td>\n",
       "      <td>TP_Omni</td>\n",
       "    </tr>\n",
       "    <tr>\n",
       "      <th>56</th>\n",
       "      <td>2001234</td>\n",
       "      <td>[You: Two years, it had been two years. John W...</td>\n",
       "      <td>TP_Omni</td>\n",
       "    </tr>\n",
       "    <tr>\n",
       "      <th>57</th>\n",
       "      <td>2135307</td>\n",
       "      <td>[PARTNER: Everyone had one of those little hob...</td>\n",
       "      <td>TP_Omni</td>\n",
       "    </tr>\n",
       "    <tr>\n",
       "      <th>58</th>\n",
       "      <td>19173559</td>\n",
       "      <td>[The night after the Apocalypse-That-Wasn’t, a...</td>\n",
       "      <td>TP_Omni</td>\n",
       "    </tr>\n",
       "    <tr>\n",
       "      <th>59</th>\n",
       "      <td>2448065</td>\n",
       "      <td>[Cas looked around the Halloween party, tuggin...</td>\n",
       "      <td>TP_Omni</td>\n",
       "    </tr>\n",
       "  </tbody>\n",
       "</table>\n",
       "<p>375 rows × 3 columns</p>\n",
       "</div>"
      ],
      "text/plain": [
       "          ID                                               Text      POV\n",
       "0    1873059  [You thought it would be easy to find him foll...       SP\n",
       "1   15729375  [ , Raw, unbridled passion. , It finds your li...       SP\n",
       "2   21143303  [“I don’t get humans,” you say for the umpteen...       SP\n",
       "3    7254226  [A young man stands in his father’s study, a s...       SP\n",
       "4   11795490  [You’ve heard the rumors, the whisperings behi...       SP\n",
       "..       ...                                                ...      ...\n",
       "55  24032950  [Castiel stood in front of a blonde woman whil...  TP_Omni\n",
       "56   2001234  [You: Two years, it had been two years. John W...  TP_Omni\n",
       "57   2135307  [PARTNER: Everyone had one of those little hob...  TP_Omni\n",
       "58  19173559  [The night after the Apocalypse-That-Wasn’t, a...  TP_Omni\n",
       "59   2448065  [Cas looked around the Halloween party, tuggin...  TP_Omni\n",
       "\n",
       "[375 rows x 3 columns]"
      ]
     },
     "execution_count": 91,
     "metadata": {},
     "output_type": "execute_result"
    }
   ],
   "source": [
    "Frames = [SPdata, FP_Data, TP_Data, TpLimData, TpOmData]\n",
    "FullData = pd.concat(Frames)\n",
    "FullData"
   ]
  },
  {
   "cell_type": "code",
   "execution_count": 92,
   "id": "c0e9e7e9",
   "metadata": {},
   "outputs": [],
   "source": [
    "FullData.to_csv('TextClassData.csv')"
   ]
  },
  {
   "cell_type": "code",
   "execution_count": null,
   "id": "c29e262e",
   "metadata": {},
   "outputs": [],
   "source": []
  }
 ],
 "metadata": {
  "kernelspec": {
   "display_name": "Python 3",
   "language": "python",
   "name": "python3"
  },
  "language_info": {
   "codemirror_mode": {
    "name": "ipython",
    "version": 3
   },
   "file_extension": ".py",
   "mimetype": "text/x-python",
   "name": "python",
   "nbconvert_exporter": "python",
   "pygments_lexer": "ipython3",
   "version": "3.8.8"
  }
 },
 "nbformat": 4,
 "nbformat_minor": 5
}
