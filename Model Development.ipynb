{
 "cells": [
  {
   "cell_type": "code",
   "execution_count": 110,
   "id": "6170da44",
   "metadata": {},
   "outputs": [],
   "source": [
    "# Basic Libraries for all data manipulation\n",
    "import pandas as pd\n",
    "import matplotlib.pyplot as plt\n",
    "import seaborn as sns\n",
    "import numpy as np\n",
    "\n",
    "# Machine Learning Model Libraries\n",
    "from sklearn.linear_model import LogisticRegression\n",
    "from sklearn.neighbors import KNeighborsClassifier\n",
    "from sklearn.ensemble import RandomForestClassifier\n",
    "from sklearn.model_selection import train_test_split\n",
    "from sklearn.preprocessing import StandardScaler\n",
    "from sklearn.multiclass import OneVsRestClassifier\n",
    "from sklearn import metrics\n",
    "\n",
    "#for some fun later\n",
    "from mpl_toolkits.mplot3d import Axes3D"
   ]
  },
  {
   "cell_type": "markdown",
   "id": "b7319457",
   "metadata": {},
   "source": [
    "### K-Nearest Neightbors is a distance based algorithm, and Logistic regression will used a type of Gradient Descent as a solver, so It is neccessary to Normalize or Standardize the data "
   ]
  },
  {
   "cell_type": "code",
   "execution_count": 97,
   "id": "0e71dca8",
   "metadata": {},
   "outputs": [],
   "source": [
    "WordToken = pd.read_csv('WordToken_TextData.csv')\n",
    "SenToken = pd.read_csv('SentenceToken_TextData.csv')\n",
    "Processed = pd.read_csv('Processed_TextData.csv')\n"
   ]
  },
  {
   "cell_type": "code",
   "execution_count": 12,
   "id": "b25bf577",
   "metadata": {},
   "outputs": [
    {
     "data": {
      "text/html": [
       "<div>\n",
       "<style scoped>\n",
       "    .dataframe tbody tr th:only-of-type {\n",
       "        vertical-align: middle;\n",
       "    }\n",
       "\n",
       "    .dataframe tbody tr th {\n",
       "        vertical-align: top;\n",
       "    }\n",
       "\n",
       "    .dataframe thead th {\n",
       "        text-align: right;\n",
       "    }\n",
       "</style>\n",
       "<table border=\"1\" class=\"dataframe\">\n",
       "  <thead>\n",
       "    <tr style=\"text-align: right;\">\n",
       "      <th></th>\n",
       "      <th>Unnamed: 0</th>\n",
       "      <th>Unnamed: 0.1</th>\n",
       "      <th>ID</th>\n",
       "      <th>Text</th>\n",
       "      <th>POV</th>\n",
       "    </tr>\n",
       "  </thead>\n",
       "  <tbody>\n",
       "    <tr>\n",
       "      <th>0</th>\n",
       "      <td>0</td>\n",
       "      <td>0</td>\n",
       "      <td>1873059</td>\n",
       "      <td>you thought it would be easy to find him follo...</td>\n",
       "      <td>SP</td>\n",
       "    </tr>\n",
       "    <tr>\n",
       "      <th>1</th>\n",
       "      <td>1</td>\n",
       "      <td>1</td>\n",
       "      <td>15729375</td>\n",
       "      <td>raw, unbridled passion. it finds your lips af...</td>\n",
       "      <td>SP</td>\n",
       "    </tr>\n",
       "    <tr>\n",
       "      <th>2</th>\n",
       "      <td>2</td>\n",
       "      <td>2</td>\n",
       "      <td>21143303</td>\n",
       "      <td>“i don’t get humans,” you say for the umpteent...</td>\n",
       "      <td>SP</td>\n",
       "    </tr>\n",
       "    <tr>\n",
       "      <th>3</th>\n",
       "      <td>3</td>\n",
       "      <td>3</td>\n",
       "      <td>7254226</td>\n",
       "      <td>a young man stands in his father’s study, a sh...</td>\n",
       "      <td>SP</td>\n",
       "    </tr>\n",
       "    <tr>\n",
       "      <th>4</th>\n",
       "      <td>4</td>\n",
       "      <td>4</td>\n",
       "      <td>11795490</td>\n",
       "      <td>you’ve heard the rumors, the whisperings behin...</td>\n",
       "      <td>SP</td>\n",
       "    </tr>\n",
       "    <tr>\n",
       "      <th>...</th>\n",
       "      <td>...</td>\n",
       "      <td>...</td>\n",
       "      <td>...</td>\n",
       "      <td>...</td>\n",
       "      <td>...</td>\n",
       "    </tr>\n",
       "    <tr>\n",
       "      <th>370</th>\n",
       "      <td>370</td>\n",
       "      <td>55</td>\n",
       "      <td>24032950</td>\n",
       "      <td>castiel stood in front of a blonde woman while...</td>\n",
       "      <td>TP_Omni</td>\n",
       "    </tr>\n",
       "    <tr>\n",
       "      <th>371</th>\n",
       "      <td>371</td>\n",
       "      <td>56</td>\n",
       "      <td>2001234</td>\n",
       "      <td>\"you: two years, it had been two years. john w...</td>\n",
       "      <td>TP_Omni</td>\n",
       "    </tr>\n",
       "    <tr>\n",
       "      <th>372</th>\n",
       "      <td>372</td>\n",
       "      <td>57</td>\n",
       "      <td>2135307</td>\n",
       "      <td>\"partner: everyone had one of those little hob...</td>\n",
       "      <td>TP_Omni</td>\n",
       "    </tr>\n",
       "    <tr>\n",
       "      <th>373</th>\n",
       "      <td>373</td>\n",
       "      <td>58</td>\n",
       "      <td>19173559</td>\n",
       "      <td>the night after the apocalypse-that-wasn’t, an...</td>\n",
       "      <td>TP_Omni</td>\n",
       "    </tr>\n",
       "    <tr>\n",
       "      <th>374</th>\n",
       "      <td>374</td>\n",
       "      <td>59</td>\n",
       "      <td>2448065</td>\n",
       "      <td>cas looked around the halloween party, tugging...</td>\n",
       "      <td>TP_Omni</td>\n",
       "    </tr>\n",
       "  </tbody>\n",
       "</table>\n",
       "<p>375 rows × 5 columns</p>\n",
       "</div>"
      ],
      "text/plain": [
       "     Unnamed: 0  Unnamed: 0.1        ID  \\\n",
       "0             0             0   1873059   \n",
       "1             1             1  15729375   \n",
       "2             2             2  21143303   \n",
       "3             3             3   7254226   \n",
       "4             4             4  11795490   \n",
       "..          ...           ...       ...   \n",
       "370         370            55  24032950   \n",
       "371         371            56   2001234   \n",
       "372         372            57   2135307   \n",
       "373         373            58  19173559   \n",
       "374         374            59   2448065   \n",
       "\n",
       "                                                  Text      POV  \n",
       "0    you thought it would be easy to find him follo...       SP  \n",
       "1     raw, unbridled passion. it finds your lips af...       SP  \n",
       "2    “i don’t get humans,” you say for the umpteent...       SP  \n",
       "3    a young man stands in his father’s study, a sh...       SP  \n",
       "4    you’ve heard the rumors, the whisperings behin...       SP  \n",
       "..                                                 ...      ...  \n",
       "370  castiel stood in front of a blonde woman while...  TP_Omni  \n",
       "371  \"you: two years, it had been two years. john w...  TP_Omni  \n",
       "372  \"partner: everyone had one of those little hob...  TP_Omni  \n",
       "373  the night after the apocalypse-that-wasn’t, an...  TP_Omni  \n",
       "374  cas looked around the halloween party, tugging...  TP_Omni  \n",
       "\n",
       "[375 rows x 5 columns]"
      ]
     },
     "execution_count": 12,
     "metadata": {},
     "output_type": "execute_result"
    }
   ],
   "source": [
    "Combined = Processed.copy()\n",
    "Combined"
   ]
  },
  {
   "cell_type": "code",
   "execution_count": null,
   "id": "76d08ac8",
   "metadata": {},
   "outputs": [],
   "source": [
    "Combined.rename({\"Unnamed: 0\":\"a\"}, axis=\"columns\", inplace=True)\n",
    "Combined.rename({\"Unnamed: 0.1\":\"b\"}, axis=\"columns\", inplace=True)\n",
    "Combined.drop(['a'], axis=1)\n",
    "Combined.drop(['b'], axis=1)"
   ]
  },
  {
   "cell_type": "code",
   "execution_count": null,
   "id": "49bca45c",
   "metadata": {},
   "outputs": [],
   "source": [
    "Combined['FP_PredictA'] = WordToken['I-me-my'].copy()"
   ]
  },
  {
   "cell_type": "code",
   "execution_count": 31,
   "id": "c740d8c7",
   "metadata": {},
   "outputs": [
    {
     "data": {
      "text/html": [
       "<div>\n",
       "<style scoped>\n",
       "    .dataframe tbody tr th:only-of-type {\n",
       "        vertical-align: middle;\n",
       "    }\n",
       "\n",
       "    .dataframe tbody tr th {\n",
       "        vertical-align: top;\n",
       "    }\n",
       "\n",
       "    .dataframe thead th {\n",
       "        text-align: right;\n",
       "    }\n",
       "</style>\n",
       "<table border=\"1\" class=\"dataframe\">\n",
       "  <thead>\n",
       "    <tr style=\"text-align: right;\">\n",
       "      <th></th>\n",
       "      <th>ID</th>\n",
       "      <th>Text</th>\n",
       "      <th>POV</th>\n",
       "      <th>FP_PredictA</th>\n",
       "      <th>SP_PredictA</th>\n",
       "      <th>TP_PredictA</th>\n",
       "      <th>FP_PredictB</th>\n",
       "    </tr>\n",
       "  </thead>\n",
       "  <tbody>\n",
       "    <tr>\n",
       "      <th>0</th>\n",
       "      <td>1873059</td>\n",
       "      <td>you thought it would be easy to find him follo...</td>\n",
       "      <td>SP</td>\n",
       "      <td>1.976574</td>\n",
       "      <td>7.979502</td>\n",
       "      <td>4.538799</td>\n",
       "      <td>61.363636</td>\n",
       "    </tr>\n",
       "    <tr>\n",
       "      <th>1</th>\n",
       "      <td>15729375</td>\n",
       "      <td>raw, unbridled passion. it finds your lips af...</td>\n",
       "      <td>SP</td>\n",
       "      <td>0.220669</td>\n",
       "      <td>9.672674</td>\n",
       "      <td>8.201545</td>\n",
       "      <td>0.000000</td>\n",
       "    </tr>\n",
       "    <tr>\n",
       "      <th>2</th>\n",
       "      <td>21143303</td>\n",
       "      <td>“i don’t get humans,” you say for the umpteent...</td>\n",
       "      <td>SP</td>\n",
       "      <td>5.418719</td>\n",
       "      <td>4.926108</td>\n",
       "      <td>2.463054</td>\n",
       "      <td>3.846154</td>\n",
       "    </tr>\n",
       "    <tr>\n",
       "      <th>3</th>\n",
       "      <td>7254226</td>\n",
       "      <td>a young man stands in his father’s study, a sh...</td>\n",
       "      <td>SP</td>\n",
       "      <td>1.237785</td>\n",
       "      <td>7.947883</td>\n",
       "      <td>5.342020</td>\n",
       "      <td>2.645503</td>\n",
       "    </tr>\n",
       "    <tr>\n",
       "      <th>4</th>\n",
       "      <td>11795490</td>\n",
       "      <td>you’ve heard the rumors, the whisperings behin...</td>\n",
       "      <td>SP</td>\n",
       "      <td>0.787163</td>\n",
       "      <td>8.204662</td>\n",
       "      <td>2.724796</td>\n",
       "      <td>0.995025</td>\n",
       "    </tr>\n",
       "    <tr>\n",
       "      <th>...</th>\n",
       "      <td>...</td>\n",
       "      <td>...</td>\n",
       "      <td>...</td>\n",
       "      <td>...</td>\n",
       "      <td>...</td>\n",
       "      <td>...</td>\n",
       "      <td>...</td>\n",
       "    </tr>\n",
       "    <tr>\n",
       "      <th>370</th>\n",
       "      <td>24032950</td>\n",
       "      <td>castiel stood in front of a blonde woman while...</td>\n",
       "      <td>TP_Omni</td>\n",
       "      <td>1.027397</td>\n",
       "      <td>0.722983</td>\n",
       "      <td>9.550989</td>\n",
       "      <td>1.652893</td>\n",
       "    </tr>\n",
       "    <tr>\n",
       "      <th>371</th>\n",
       "      <td>2001234</td>\n",
       "      <td>\"you: two years, it had been two years. john w...</td>\n",
       "      <td>TP_Omni</td>\n",
       "      <td>1.157775</td>\n",
       "      <td>1.589103</td>\n",
       "      <td>7.589860</td>\n",
       "      <td>1.837838</td>\n",
       "    </tr>\n",
       "    <tr>\n",
       "      <th>372</th>\n",
       "      <td>2135307</td>\n",
       "      <td>\"partner: everyone had one of those little hob...</td>\n",
       "      <td>TP_Omni</td>\n",
       "      <td>0.468925</td>\n",
       "      <td>0.184928</td>\n",
       "      <td>7.826432</td>\n",
       "      <td>0.539811</td>\n",
       "    </tr>\n",
       "    <tr>\n",
       "      <th>373</th>\n",
       "      <td>19173559</td>\n",
       "      <td>the night after the apocalypse-that-wasn’t, an...</td>\n",
       "      <td>TP_Omni</td>\n",
       "      <td>4.513889</td>\n",
       "      <td>3.993056</td>\n",
       "      <td>5.324074</td>\n",
       "      <td>12.000000</td>\n",
       "    </tr>\n",
       "    <tr>\n",
       "      <th>374</th>\n",
       "      <td>2448065</td>\n",
       "      <td>cas looked around the halloween party, tugging...</td>\n",
       "      <td>TP_Omni</td>\n",
       "      <td>0.634737</td>\n",
       "      <td>0.461627</td>\n",
       "      <td>9.492210</td>\n",
       "      <td>1.063830</td>\n",
       "    </tr>\n",
       "  </tbody>\n",
       "</table>\n",
       "<p>375 rows × 7 columns</p>\n",
       "</div>"
      ],
      "text/plain": [
       "           ID                                               Text      POV  \\\n",
       "0     1873059  you thought it would be easy to find him follo...       SP   \n",
       "1    15729375   raw, unbridled passion. it finds your lips af...       SP   \n",
       "2    21143303  “i don’t get humans,” you say for the umpteent...       SP   \n",
       "3     7254226  a young man stands in his father’s study, a sh...       SP   \n",
       "4    11795490  you’ve heard the rumors, the whisperings behin...       SP   \n",
       "..        ...                                                ...      ...   \n",
       "370  24032950  castiel stood in front of a blonde woman while...  TP_Omni   \n",
       "371   2001234  \"you: two years, it had been two years. john w...  TP_Omni   \n",
       "372   2135307  \"partner: everyone had one of those little hob...  TP_Omni   \n",
       "373  19173559  the night after the apocalypse-that-wasn’t, an...  TP_Omni   \n",
       "374   2448065  cas looked around the halloween party, tugging...  TP_Omni   \n",
       "\n",
       "     FP_PredictA  SP_PredictA  TP_PredictA  FP_PredictB  \n",
       "0       1.976574     7.979502     4.538799    61.363636  \n",
       "1       0.220669     9.672674     8.201545     0.000000  \n",
       "2       5.418719     4.926108     2.463054     3.846154  \n",
       "3       1.237785     7.947883     5.342020     2.645503  \n",
       "4       0.787163     8.204662     2.724796     0.995025  \n",
       "..           ...          ...          ...          ...  \n",
       "370     1.027397     0.722983     9.550989     1.652893  \n",
       "371     1.157775     1.589103     7.589860     1.837838  \n",
       "372     0.468925     0.184928     7.826432     0.539811  \n",
       "373     4.513889     3.993056     5.324074    12.000000  \n",
       "374     0.634737     0.461627     9.492210     1.063830  \n",
       "\n",
       "[375 rows x 7 columns]"
      ]
     },
     "execution_count": 31,
     "metadata": {},
     "output_type": "execute_result"
    }
   ],
   "source": [
    "Combined['SP_PredictA'] = WordToken['you-your'].copy()\n",
    "Combined['TP_PredictA'] = WordToken['she/her'].copy()\n",
    "Combined['FP_PredictB'] = SenToken['I-me-my'].copy()\n",
    "Combined"
   ]
  },
  {
   "cell_type": "markdown",
   "id": "4a25efb0",
   "metadata": {},
   "source": [
    "### Dummy Coding my Categorical Variables"
   ]
  },
  {
   "cell_type": "code",
   "execution_count": 55,
   "id": "98f790ad",
   "metadata": {},
   "outputs": [
    {
     "data": {
      "text/html": [
       "<div>\n",
       "<style scoped>\n",
       "    .dataframe tbody tr th:only-of-type {\n",
       "        vertical-align: middle;\n",
       "    }\n",
       "\n",
       "    .dataframe tbody tr th {\n",
       "        vertical-align: top;\n",
       "    }\n",
       "\n",
       "    .dataframe thead th {\n",
       "        text-align: right;\n",
       "    }\n",
       "</style>\n",
       "<table border=\"1\" class=\"dataframe\">\n",
       "  <thead>\n",
       "    <tr style=\"text-align: right;\">\n",
       "      <th></th>\n",
       "      <th>ID</th>\n",
       "      <th>Text</th>\n",
       "      <th>POV</th>\n",
       "      <th>FP_PredictA</th>\n",
       "      <th>SP_PredictA</th>\n",
       "      <th>TP_PredictA</th>\n",
       "      <th>FP_PredictB</th>\n",
       "    </tr>\n",
       "  </thead>\n",
       "  <tbody>\n",
       "    <tr>\n",
       "      <th>0</th>\n",
       "      <td>1873059</td>\n",
       "      <td>you thought it would be easy to find him follo...</td>\n",
       "      <td>SP</td>\n",
       "      <td>1.976574</td>\n",
       "      <td>7.979502</td>\n",
       "      <td>4.538799</td>\n",
       "      <td>61.363636</td>\n",
       "    </tr>\n",
       "    <tr>\n",
       "      <th>1</th>\n",
       "      <td>15729375</td>\n",
       "      <td>raw, unbridled passion. it finds your lips af...</td>\n",
       "      <td>SP</td>\n",
       "      <td>0.220669</td>\n",
       "      <td>9.672674</td>\n",
       "      <td>8.201545</td>\n",
       "      <td>0.000000</td>\n",
       "    </tr>\n",
       "    <tr>\n",
       "      <th>2</th>\n",
       "      <td>21143303</td>\n",
       "      <td>“i don’t get humans,” you say for the umpteent...</td>\n",
       "      <td>SP</td>\n",
       "      <td>5.418719</td>\n",
       "      <td>4.926108</td>\n",
       "      <td>2.463054</td>\n",
       "      <td>3.846154</td>\n",
       "    </tr>\n",
       "    <tr>\n",
       "      <th>3</th>\n",
       "      <td>7254226</td>\n",
       "      <td>a young man stands in his father’s study, a sh...</td>\n",
       "      <td>SP</td>\n",
       "      <td>1.237785</td>\n",
       "      <td>7.947883</td>\n",
       "      <td>5.342020</td>\n",
       "      <td>2.645503</td>\n",
       "    </tr>\n",
       "    <tr>\n",
       "      <th>4</th>\n",
       "      <td>11795490</td>\n",
       "      <td>you’ve heard the rumors, the whisperings behin...</td>\n",
       "      <td>SP</td>\n",
       "      <td>0.787163</td>\n",
       "      <td>8.204662</td>\n",
       "      <td>2.724796</td>\n",
       "      <td>0.995025</td>\n",
       "    </tr>\n",
       "    <tr>\n",
       "      <th>...</th>\n",
       "      <td>...</td>\n",
       "      <td>...</td>\n",
       "      <td>...</td>\n",
       "      <td>...</td>\n",
       "      <td>...</td>\n",
       "      <td>...</td>\n",
       "      <td>...</td>\n",
       "    </tr>\n",
       "    <tr>\n",
       "      <th>370</th>\n",
       "      <td>24032950</td>\n",
       "      <td>castiel stood in front of a blonde woman while...</td>\n",
       "      <td>TP_Omni</td>\n",
       "      <td>1.027397</td>\n",
       "      <td>0.722983</td>\n",
       "      <td>9.550989</td>\n",
       "      <td>1.652893</td>\n",
       "    </tr>\n",
       "    <tr>\n",
       "      <th>371</th>\n",
       "      <td>2001234</td>\n",
       "      <td>\"you: two years, it had been two years. john w...</td>\n",
       "      <td>TP_Omni</td>\n",
       "      <td>1.157775</td>\n",
       "      <td>1.589103</td>\n",
       "      <td>7.589860</td>\n",
       "      <td>1.837838</td>\n",
       "    </tr>\n",
       "    <tr>\n",
       "      <th>372</th>\n",
       "      <td>2135307</td>\n",
       "      <td>\"partner: everyone had one of those little hob...</td>\n",
       "      <td>TP_Omni</td>\n",
       "      <td>0.468925</td>\n",
       "      <td>0.184928</td>\n",
       "      <td>7.826432</td>\n",
       "      <td>0.539811</td>\n",
       "    </tr>\n",
       "    <tr>\n",
       "      <th>373</th>\n",
       "      <td>19173559</td>\n",
       "      <td>the night after the apocalypse-that-wasn’t, an...</td>\n",
       "      <td>TP_Omni</td>\n",
       "      <td>4.513889</td>\n",
       "      <td>3.993056</td>\n",
       "      <td>5.324074</td>\n",
       "      <td>12.000000</td>\n",
       "    </tr>\n",
       "    <tr>\n",
       "      <th>374</th>\n",
       "      <td>2448065</td>\n",
       "      <td>cas looked around the halloween party, tugging...</td>\n",
       "      <td>TP_Omni</td>\n",
       "      <td>0.634737</td>\n",
       "      <td>0.461627</td>\n",
       "      <td>9.492210</td>\n",
       "      <td>1.063830</td>\n",
       "    </tr>\n",
       "  </tbody>\n",
       "</table>\n",
       "<p>375 rows × 7 columns</p>\n",
       "</div>"
      ],
      "text/plain": [
       "           ID                                               Text      POV  \\\n",
       "0     1873059  you thought it would be easy to find him follo...       SP   \n",
       "1    15729375   raw, unbridled passion. it finds your lips af...       SP   \n",
       "2    21143303  “i don’t get humans,” you say for the umpteent...       SP   \n",
       "3     7254226  a young man stands in his father’s study, a sh...       SP   \n",
       "4    11795490  you’ve heard the rumors, the whisperings behin...       SP   \n",
       "..        ...                                                ...      ...   \n",
       "370  24032950  castiel stood in front of a blonde woman while...  TP_Omni   \n",
       "371   2001234  \"you: two years, it had been two years. john w...  TP_Omni   \n",
       "372   2135307  \"partner: everyone had one of those little hob...  TP_Omni   \n",
       "373  19173559  the night after the apocalypse-that-wasn’t, an...  TP_Omni   \n",
       "374   2448065  cas looked around the halloween party, tugging...  TP_Omni   \n",
       "\n",
       "     FP_PredictA  SP_PredictA  TP_PredictA  FP_PredictB  \n",
       "0       1.976574     7.979502     4.538799    61.363636  \n",
       "1       0.220669     9.672674     8.201545     0.000000  \n",
       "2       5.418719     4.926108     2.463054     3.846154  \n",
       "3       1.237785     7.947883     5.342020     2.645503  \n",
       "4       0.787163     8.204662     2.724796     0.995025  \n",
       "..           ...          ...          ...          ...  \n",
       "370     1.027397     0.722983     9.550989     1.652893  \n",
       "371     1.157775     1.589103     7.589860     1.837838  \n",
       "372     0.468925     0.184928     7.826432     0.539811  \n",
       "373     4.513889     3.993056     5.324074    12.000000  \n",
       "374     0.634737     0.461627     9.492210     1.063830  \n",
       "\n",
       "[375 rows x 7 columns]"
      ]
     },
     "execution_count": 55,
     "metadata": {},
     "output_type": "execute_result"
    }
   ],
   "source": [
    "DummyData = Combined.copy()\n",
    "DummyData"
   ]
  },
  {
   "cell_type": "code",
   "execution_count": 70,
   "id": "8ee272bc",
   "metadata": {},
   "outputs": [
    {
     "data": {
      "text/html": [
       "<div>\n",
       "<style scoped>\n",
       "    .dataframe tbody tr th:only-of-type {\n",
       "        vertical-align: middle;\n",
       "    }\n",
       "\n",
       "    .dataframe tbody tr th {\n",
       "        vertical-align: top;\n",
       "    }\n",
       "\n",
       "    .dataframe thead th {\n",
       "        text-align: right;\n",
       "    }\n",
       "</style>\n",
       "<table border=\"1\" class=\"dataframe\">\n",
       "  <thead>\n",
       "    <tr style=\"text-align: right;\">\n",
       "      <th></th>\n",
       "      <th>POV_FP</th>\n",
       "      <th>POV_SP</th>\n",
       "      <th>POV_TP</th>\n",
       "      <th>POV_TP_Lim</th>\n",
       "      <th>POV_TP_Omni</th>\n",
       "    </tr>\n",
       "  </thead>\n",
       "  <tbody>\n",
       "    <tr>\n",
       "      <th>0</th>\n",
       "      <td>0</td>\n",
       "      <td>1</td>\n",
       "      <td>0</td>\n",
       "      <td>0</td>\n",
       "      <td>0</td>\n",
       "    </tr>\n",
       "    <tr>\n",
       "      <th>1</th>\n",
       "      <td>0</td>\n",
       "      <td>1</td>\n",
       "      <td>0</td>\n",
       "      <td>0</td>\n",
       "      <td>0</td>\n",
       "    </tr>\n",
       "    <tr>\n",
       "      <th>2</th>\n",
       "      <td>0</td>\n",
       "      <td>1</td>\n",
       "      <td>0</td>\n",
       "      <td>0</td>\n",
       "      <td>0</td>\n",
       "    </tr>\n",
       "    <tr>\n",
       "      <th>3</th>\n",
       "      <td>0</td>\n",
       "      <td>1</td>\n",
       "      <td>0</td>\n",
       "      <td>0</td>\n",
       "      <td>0</td>\n",
       "    </tr>\n",
       "    <tr>\n",
       "      <th>4</th>\n",
       "      <td>0</td>\n",
       "      <td>1</td>\n",
       "      <td>0</td>\n",
       "      <td>0</td>\n",
       "      <td>0</td>\n",
       "    </tr>\n",
       "    <tr>\n",
       "      <th>...</th>\n",
       "      <td>...</td>\n",
       "      <td>...</td>\n",
       "      <td>...</td>\n",
       "      <td>...</td>\n",
       "      <td>...</td>\n",
       "    </tr>\n",
       "    <tr>\n",
       "      <th>370</th>\n",
       "      <td>0</td>\n",
       "      <td>0</td>\n",
       "      <td>0</td>\n",
       "      <td>0</td>\n",
       "      <td>1</td>\n",
       "    </tr>\n",
       "    <tr>\n",
       "      <th>371</th>\n",
       "      <td>0</td>\n",
       "      <td>0</td>\n",
       "      <td>0</td>\n",
       "      <td>0</td>\n",
       "      <td>1</td>\n",
       "    </tr>\n",
       "    <tr>\n",
       "      <th>372</th>\n",
       "      <td>0</td>\n",
       "      <td>0</td>\n",
       "      <td>0</td>\n",
       "      <td>0</td>\n",
       "      <td>1</td>\n",
       "    </tr>\n",
       "    <tr>\n",
       "      <th>373</th>\n",
       "      <td>0</td>\n",
       "      <td>0</td>\n",
       "      <td>0</td>\n",
       "      <td>0</td>\n",
       "      <td>1</td>\n",
       "    </tr>\n",
       "    <tr>\n",
       "      <th>374</th>\n",
       "      <td>0</td>\n",
       "      <td>0</td>\n",
       "      <td>0</td>\n",
       "      <td>0</td>\n",
       "      <td>1</td>\n",
       "    </tr>\n",
       "  </tbody>\n",
       "</table>\n",
       "<p>375 rows × 5 columns</p>\n",
       "</div>"
      ],
      "text/plain": [
       "     POV_FP  POV_SP  POV_TP  POV_TP_Lim  POV_TP_Omni\n",
       "0         0       1       0           0            0\n",
       "1         0       1       0           0            0\n",
       "2         0       1       0           0            0\n",
       "3         0       1       0           0            0\n",
       "4         0       1       0           0            0\n",
       "..      ...     ...     ...         ...          ...\n",
       "370       0       0       0           0            1\n",
       "371       0       0       0           0            1\n",
       "372       0       0       0           0            1\n",
       "373       0       0       0           0            1\n",
       "374       0       0       0           0            1\n",
       "\n",
       "[375 rows x 5 columns]"
      ]
     },
     "execution_count": 70,
     "metadata": {},
     "output_type": "execute_result"
    }
   ],
   "source": [
    "DummyCol = pd.DataFrame(Combined['POV'].copy())\n",
    "DummyCol = pd.get_dummies(DummyCol)\n",
    "DummyCol"
   ]
  },
  {
   "cell_type": "code",
   "execution_count": 71,
   "id": "99eb11be",
   "metadata": {},
   "outputs": [
    {
     "data": {
      "text/html": [
       "<div>\n",
       "<style scoped>\n",
       "    .dataframe tbody tr th:only-of-type {\n",
       "        vertical-align: middle;\n",
       "    }\n",
       "\n",
       "    .dataframe tbody tr th {\n",
       "        vertical-align: top;\n",
       "    }\n",
       "\n",
       "    .dataframe thead th {\n",
       "        text-align: right;\n",
       "    }\n",
       "</style>\n",
       "<table border=\"1\" class=\"dataframe\">\n",
       "  <thead>\n",
       "    <tr style=\"text-align: right;\">\n",
       "      <th></th>\n",
       "      <th>ID</th>\n",
       "      <th>Text</th>\n",
       "      <th>FP_PredictA</th>\n",
       "      <th>SP_PredictA</th>\n",
       "      <th>TP_PredictA</th>\n",
       "      <th>FP_PredictB</th>\n",
       "      <th>POV_SP</th>\n",
       "      <th>POV_TP</th>\n",
       "      <th>POV_TP_Lim</th>\n",
       "      <th>POV_TP_Omni</th>\n",
       "      <th>POV_FP</th>\n",
       "    </tr>\n",
       "  </thead>\n",
       "  <tbody>\n",
       "    <tr>\n",
       "      <th>0</th>\n",
       "      <td>1873059</td>\n",
       "      <td>you thought it would be easy to find him follo...</td>\n",
       "      <td>1.976574</td>\n",
       "      <td>7.979502</td>\n",
       "      <td>4.538799</td>\n",
       "      <td>61.363636</td>\n",
       "      <td>1</td>\n",
       "      <td>0</td>\n",
       "      <td>0</td>\n",
       "      <td>0</td>\n",
       "      <td>0</td>\n",
       "    </tr>\n",
       "    <tr>\n",
       "      <th>1</th>\n",
       "      <td>15729375</td>\n",
       "      <td>raw, unbridled passion. it finds your lips af...</td>\n",
       "      <td>0.220669</td>\n",
       "      <td>9.672674</td>\n",
       "      <td>8.201545</td>\n",
       "      <td>0.000000</td>\n",
       "      <td>1</td>\n",
       "      <td>0</td>\n",
       "      <td>0</td>\n",
       "      <td>0</td>\n",
       "      <td>0</td>\n",
       "    </tr>\n",
       "    <tr>\n",
       "      <th>2</th>\n",
       "      <td>21143303</td>\n",
       "      <td>“i don’t get humans,” you say for the umpteent...</td>\n",
       "      <td>5.418719</td>\n",
       "      <td>4.926108</td>\n",
       "      <td>2.463054</td>\n",
       "      <td>3.846154</td>\n",
       "      <td>1</td>\n",
       "      <td>0</td>\n",
       "      <td>0</td>\n",
       "      <td>0</td>\n",
       "      <td>0</td>\n",
       "    </tr>\n",
       "    <tr>\n",
       "      <th>3</th>\n",
       "      <td>7254226</td>\n",
       "      <td>a young man stands in his father’s study, a sh...</td>\n",
       "      <td>1.237785</td>\n",
       "      <td>7.947883</td>\n",
       "      <td>5.342020</td>\n",
       "      <td>2.645503</td>\n",
       "      <td>1</td>\n",
       "      <td>0</td>\n",
       "      <td>0</td>\n",
       "      <td>0</td>\n",
       "      <td>0</td>\n",
       "    </tr>\n",
       "    <tr>\n",
       "      <th>4</th>\n",
       "      <td>11795490</td>\n",
       "      <td>you’ve heard the rumors, the whisperings behin...</td>\n",
       "      <td>0.787163</td>\n",
       "      <td>8.204662</td>\n",
       "      <td>2.724796</td>\n",
       "      <td>0.995025</td>\n",
       "      <td>1</td>\n",
       "      <td>0</td>\n",
       "      <td>0</td>\n",
       "      <td>0</td>\n",
       "      <td>0</td>\n",
       "    </tr>\n",
       "    <tr>\n",
       "      <th>...</th>\n",
       "      <td>...</td>\n",
       "      <td>...</td>\n",
       "      <td>...</td>\n",
       "      <td>...</td>\n",
       "      <td>...</td>\n",
       "      <td>...</td>\n",
       "      <td>...</td>\n",
       "      <td>...</td>\n",
       "      <td>...</td>\n",
       "      <td>...</td>\n",
       "      <td>...</td>\n",
       "    </tr>\n",
       "    <tr>\n",
       "      <th>370</th>\n",
       "      <td>24032950</td>\n",
       "      <td>castiel stood in front of a blonde woman while...</td>\n",
       "      <td>1.027397</td>\n",
       "      <td>0.722983</td>\n",
       "      <td>9.550989</td>\n",
       "      <td>1.652893</td>\n",
       "      <td>0</td>\n",
       "      <td>0</td>\n",
       "      <td>0</td>\n",
       "      <td>1</td>\n",
       "      <td>0</td>\n",
       "    </tr>\n",
       "    <tr>\n",
       "      <th>371</th>\n",
       "      <td>2001234</td>\n",
       "      <td>\"you: two years, it had been two years. john w...</td>\n",
       "      <td>1.157775</td>\n",
       "      <td>1.589103</td>\n",
       "      <td>7.589860</td>\n",
       "      <td>1.837838</td>\n",
       "      <td>0</td>\n",
       "      <td>0</td>\n",
       "      <td>0</td>\n",
       "      <td>1</td>\n",
       "      <td>0</td>\n",
       "    </tr>\n",
       "    <tr>\n",
       "      <th>372</th>\n",
       "      <td>2135307</td>\n",
       "      <td>\"partner: everyone had one of those little hob...</td>\n",
       "      <td>0.468925</td>\n",
       "      <td>0.184928</td>\n",
       "      <td>7.826432</td>\n",
       "      <td>0.539811</td>\n",
       "      <td>0</td>\n",
       "      <td>0</td>\n",
       "      <td>0</td>\n",
       "      <td>1</td>\n",
       "      <td>0</td>\n",
       "    </tr>\n",
       "    <tr>\n",
       "      <th>373</th>\n",
       "      <td>19173559</td>\n",
       "      <td>the night after the apocalypse-that-wasn’t, an...</td>\n",
       "      <td>4.513889</td>\n",
       "      <td>3.993056</td>\n",
       "      <td>5.324074</td>\n",
       "      <td>12.000000</td>\n",
       "      <td>0</td>\n",
       "      <td>0</td>\n",
       "      <td>0</td>\n",
       "      <td>1</td>\n",
       "      <td>0</td>\n",
       "    </tr>\n",
       "    <tr>\n",
       "      <th>374</th>\n",
       "      <td>2448065</td>\n",
       "      <td>cas looked around the halloween party, tugging...</td>\n",
       "      <td>0.634737</td>\n",
       "      <td>0.461627</td>\n",
       "      <td>9.492210</td>\n",
       "      <td>1.063830</td>\n",
       "      <td>0</td>\n",
       "      <td>0</td>\n",
       "      <td>0</td>\n",
       "      <td>1</td>\n",
       "      <td>0</td>\n",
       "    </tr>\n",
       "  </tbody>\n",
       "</table>\n",
       "<p>375 rows × 11 columns</p>\n",
       "</div>"
      ],
      "text/plain": [
       "           ID                                               Text  FP_PredictA  \\\n",
       "0     1873059  you thought it would be easy to find him follo...     1.976574   \n",
       "1    15729375   raw, unbridled passion. it finds your lips af...     0.220669   \n",
       "2    21143303  “i don’t get humans,” you say for the umpteent...     5.418719   \n",
       "3     7254226  a young man stands in his father’s study, a sh...     1.237785   \n",
       "4    11795490  you’ve heard the rumors, the whisperings behin...     0.787163   \n",
       "..        ...                                                ...          ...   \n",
       "370  24032950  castiel stood in front of a blonde woman while...     1.027397   \n",
       "371   2001234  \"you: two years, it had been two years. john w...     1.157775   \n",
       "372   2135307  \"partner: everyone had one of those little hob...     0.468925   \n",
       "373  19173559  the night after the apocalypse-that-wasn’t, an...     4.513889   \n",
       "374   2448065  cas looked around the halloween party, tugging...     0.634737   \n",
       "\n",
       "     SP_PredictA  TP_PredictA  FP_PredictB  POV_SP  POV_TP  POV_TP_Lim  \\\n",
       "0       7.979502     4.538799    61.363636       1       0           0   \n",
       "1       9.672674     8.201545     0.000000       1       0           0   \n",
       "2       4.926108     2.463054     3.846154       1       0           0   \n",
       "3       7.947883     5.342020     2.645503       1       0           0   \n",
       "4       8.204662     2.724796     0.995025       1       0           0   \n",
       "..           ...          ...          ...     ...     ...         ...   \n",
       "370     0.722983     9.550989     1.652893       0       0           0   \n",
       "371     1.589103     7.589860     1.837838       0       0           0   \n",
       "372     0.184928     7.826432     0.539811       0       0           0   \n",
       "373     3.993056     5.324074    12.000000       0       0           0   \n",
       "374     0.461627     9.492210     1.063830       0       0           0   \n",
       "\n",
       "     POV_TP_Omni  POV_FP  \n",
       "0              0       0  \n",
       "1              0       0  \n",
       "2              0       0  \n",
       "3              0       0  \n",
       "4              0       0  \n",
       "..           ...     ...  \n",
       "370            1       0  \n",
       "371            1       0  \n",
       "372            1       0  \n",
       "373            1       0  \n",
       "374            1       0  \n",
       "\n",
       "[375 rows x 11 columns]"
      ]
     },
     "execution_count": 71,
     "metadata": {},
     "output_type": "execute_result"
    }
   ],
   "source": [
    "Cols = ['POV_FP', 'POV_SP', 'POV_TP', 'POV_TP_Lim', 'POV_TP_Omni']\n",
    "for i in Cols:\n",
    "    DummyData[i] = DummyCol[i]\n",
    "DummyData"
   ]
  },
  {
   "cell_type": "markdown",
   "id": "af736e60",
   "metadata": {},
   "source": [
    "### Now Before we can scale our Numerical Variables, we need to split the data into a training set and a test set so we can scale the test set by the training set parameters."
   ]
  },
  {
   "cell_type": "code",
   "execution_count": 83,
   "id": "aa41b331",
   "metadata": {},
   "outputs": [],
   "source": [
    "X_train, X_test, Y_train, Y_test = train_test_split(DummyData.iloc[:,2:6], DummyData.iloc[:,6:] )"
   ]
  },
  {
   "cell_type": "code",
   "execution_count": 91,
   "id": "84d0ebbd",
   "metadata": {},
   "outputs": [],
   "source": [
    "Scaler = StandardScaler().fit(X_train)\n",
    "X_trainSTD = pd.DataFrame(Scaler.transform(X_train))\n",
    "X_testSTD = pd.DataFrame(Scaler.transform(X_test))"
   ]
  },
  {
   "cell_type": "markdown",
   "id": "7e5a5869",
   "metadata": {},
   "source": [
    "# Model 1: Logistic Regression\n",
    "### First We'll just do a lazy check for multicollinearity with a correlation matrix"
   ]
  },
  {
   "cell_type": "code",
   "execution_count": 96,
   "id": "3ffbf88c",
   "metadata": {},
   "outputs": [
    {
     "data": {
      "text/plain": [
       "<AxesSubplot:>"
      ]
     },
     "execution_count": 96,
     "metadata": {},
     "output_type": "execute_result"
    },
    {
     "data": {
      "image/png": "[encoded data removed]",
      "text/plain": [
       "<Figure size 432x288 with 2 Axes>"
      ]
     },
     "metadata": {
      "needs_background": "light"
     },
     "output_type": "display_data"
    }
   ],
   "source": [
    "sns.heatmap(X_train.corr())"
   ]
  },
  {
   "cell_type": "markdown",
   "id": "da447472",
   "metadata": {},
   "source": [
    "### both of the expected indicators for First Person text seem to be Highly correlated as suspected. ( >0.8). This an issue for predicitve purposes the way it would be for inference, but it's still good to keep a model simple if possible so I'll run a model without FP_predictA (which I suspect from previous analysis to be the weaker of the two.) to see if we still get similar performance without it. "
   ]
  },
  {
   "cell_type": "markdown",
   "id": "83d23cdf",
   "metadata": {},
   "source": [
    "X_trainSTD"
   ]
  },
  {
   "cell_type": "code",
   "execution_count": 100,
   "id": "2f6d27b9",
   "metadata": {},
   "outputs": [],
   "source": [
    "X_trainSTDsimp = X_trainSTD.copy().drop([0], axis=1)\n",
    "X_testSTDsimp = X_testSTD.copy().drop([0], axis=1)"
   ]
  },
  {
   "cell_type": "markdown",
   "id": "3985455b",
   "metadata": {},
   "source": [
    "### Setting up a \"one-versus-rest\" style Logisitic regression to account for having more than two classes. "
   ]
  },
  {
   "cell_type": "code",
   "execution_count": 108,
   "id": "841c46fa",
   "metadata": {},
   "outputs": [
    {
     "data": {
      "text/plain": [
       "OneVsRestClassifier(estimator=LogisticRegression())"
      ]
     },
     "execution_count": 108,
     "metadata": {},
     "output_type": "execute_result"
    }
   ],
   "source": [
    "LogModel_simp = OneVsRestClassifier(LogisticRegression(solver='lbfgs'))\n",
    "LogModel_comp = OneVsRestClassifier(LogisticRegression(solver='lbfgs'))\n",
    "\n",
    "LogModel_simp.fit(X_trainSTDsimp, Y_train)\n",
    "LogModel_comp.fit(X_trainSTD, Y_train)"
   ]
  },
  {
   "cell_type": "code",
   "execution_count": 109,
   "id": "f298c961",
   "metadata": {},
   "outputs": [
    {
     "data": {
      "text/plain": [
       "0.46808510638297873"
      ]
     },
     "execution_count": 109,
     "metadata": {},
     "output_type": "execute_result"
    }
   ],
   "source": [
    "LogModel_simp.score(X_testSTDsimp, Y_test)"
   ]
  },
  {
   "cell_type": "code",
   "execution_count": 112,
   "id": "9291eb8d",
   "metadata": {},
   "outputs": [
    {
     "data": {
      "text/plain": [
       "0.4787234042553192"
      ]
     },
     "execution_count": 112,
     "metadata": {},
     "output_type": "execute_result"
    }
   ],
   "source": [
    "LogModel_comp.score(X_testSTD, Y_test)"
   ]
  },
  {
   "cell_type": "markdown",
   "id": "238516a2",
   "metadata": {},
   "source": [
    "### The Prediction accuracy is very low, But this isn't unexpected. We already knew we'd have to come back later to do some better feature engineering to discern between Third-Person Subtypes. For now let's merge all of the Third-Person Subtypes into one category."
   ]
  },
  {
   "cell_type": "code",
   "execution_count": 125,
   "id": "c1d191de",
   "metadata": {},
   "outputs": [],
   "source": [
    "DummyData2 = DummyData.copy()"
   ]
  },
  {
   "cell_type": "code",
   "execution_count": 126,
   "id": "ceebc39c",
   "metadata": {},
   "outputs": [],
   "source": [
    "DummyData2['POV_TP'] = DummyData['POV_TP'] + DummyData['POV_TP_Omni'] + DummyData['POV_TP_Lim']\n",
    "DummyData2 = DummyData2.drop(columns=['POV_TP_Lim', 'POV_TP_Omni'])"
   ]
  },
  {
   "cell_type": "code",
   "execution_count": 142,
   "id": "c36e632d",
   "metadata": {},
   "outputs": [
    {
     "data": {
      "text/plain": [
       "OneVsRestClassifier(estimator=LogisticRegression())"
      ]
     },
     "execution_count": 142,
     "metadata": {},
     "output_type": "execute_result"
    }
   ],
   "source": [
    "X_train, X_test, Y_train, Y_test = train_test_split(DummyData2.iloc[:,2:6], DummyData2.iloc[:,6:] )\n",
    "\n",
    "Scaler = StandardScaler().fit(X_train)\n",
    "X_trainSTD = pd.DataFrame(Scaler.transform(X_train))\n",
    "X_testSTD = pd.DataFrame(Scaler.transform(X_test))\n",
    "\n",
    "X_trainSTDsimp = X_trainSTD.copy().drop([0], axis=1)\n",
    "X_testSTDsimp = X_testSTD.copy().drop([0], axis=1)\n",
    "\n",
    "LogModel_simp = OneVsRestClassifier(LogisticRegression(solver='lbfgs'))\n",
    "LogModel_comp = OneVsRestClassifier(LogisticRegression(solver='lbfgs'))\n",
    "\n",
    "LogModel_simp.fit(X_trainSTDsimp, Y_train)\n",
    "LogModel_comp.fit(X_trainSTD, Y_train)"
   ]
  },
  {
   "cell_type": "code",
   "execution_count": 143,
   "id": "1df9ed16",
   "metadata": {},
   "outputs": [
    {
     "data": {
      "text/plain": [
       "0.8297872340425532"
      ]
     },
     "execution_count": 143,
     "metadata": {},
     "output_type": "execute_result"
    }
   ],
   "source": [
    "LogModel_simp.score(X_testSTDsimp, Y_test)"
   ]
  },
  {
   "cell_type": "code",
   "execution_count": 144,
   "id": "193d5119",
   "metadata": {},
   "outputs": [
    {
     "data": {
      "text/plain": [
       "0.8617021276595744"
      ]
     },
     "execution_count": 144,
     "metadata": {},
     "output_type": "execute_result"
    }
   ],
   "source": [
    "LogModel_comp.score(X_testSTD, Y_test)"
   ]
  },
  {
   "cell_type": "markdown",
   "id": "fc221a95",
   "metadata": {},
   "source": [
    "### Now we're seeing much more robust prediction results. with over a 3% lead, I think the model with the seemingly redudndant predictor is worth keeping. Now Let's take a look at the confusion matrix to see how the model is classifying. "
   ]
  },
  {
   "cell_type": "code",
   "execution_count": 173,
   "id": "46b70f5e",
   "metadata": {},
   "outputs": [
    {
     "data": {
      "image/png": "[encoded data removed]",
      "text/plain": [
       "<Figure size 576x576 with 2 Axes>"
      ]
     },
     "metadata": {
      "needs_background": "light"
     },
     "output_type": "display_data"
    }
   ],
   "source": [
    "predictions = LogModel_comp.predict(X_testSTD)\n",
    "Confusion = metrics.confusion_matrix(Y_test.values.argmax(axis=1), predictions.argmax(axis=1))\n",
    "\n",
    "plt.figure(figsize=(8,8))\n",
    "sns.heatmap(Confusion, annot=True, linewidths=1, square = True, cmap='coolwarm');\n",
    "plt.ylabel('True label');\n",
    "plt.xlabel('Predicted label');\n",
    "all_sample_title = 'Accuracy Score from score(): {86%} \\n Accuracy Score from predict(): {88%}'\n",
    "plt.title(all_sample_title, size = 20);\n",
    "\n",
    "# 0 = Second person\n",
    "# 1 = Thrid Person\n",
    "# 2 = first person"
   ]
  },
  {
   "cell_type": "markdown",
   "id": "62fbcc6a",
   "metadata": {},
   "source": [
    "### so here's the breakdown by Class: First Person (72%), Third Person (91%), Second Person (100%)                        \n",
    "### The true positive rate for detecting First Person doesn't do that well with this method. Thankfully The rate of misclassification for Third Person is very low, which is important because the consumer of a product, who is likely avoiding first-person, and maybe second person, would be worse of having skipped a fic they may have liked, than if they accidentally clicked on a fic with a POV they don't like. "
   ]
  },
  {
   "cell_type": "markdown",
   "id": "cbdd32cc",
   "metadata": {},
   "source": [
    "# Model 2: K-NearestNeighbors"
   ]
  },
  {
   "cell_type": "code",
   "execution_count": 214,
   "id": "fe01f213",
   "metadata": {},
   "outputs": [],
   "source": [
    "L1 = [1, 2, 3, 4, 5, 6, 7, 8, 9, 10]\n",
    "L2 = []\n",
    "for i in range(1,11):\n",
    "    KNN = KNeighborsClassifier(n_neighbors = i)\n",
    "    KNN.fit(X_trainSTD, Y_train)\n",
    "    L2.append(KNN.score(X_testSTD, Y_test))"
   ]
  },
  {
   "cell_type": "code",
   "execution_count": 218,
   "id": "99e20e64",
   "metadata": {},
   "outputs": [
    {
     "data": {
      "text/html": [
       "<div>\n",
       "<style scoped>\n",
       "    .dataframe tbody tr th:only-of-type {\n",
       "        vertical-align: middle;\n",
       "    }\n",
       "\n",
       "    .dataframe tbody tr th {\n",
       "        vertical-align: top;\n",
       "    }\n",
       "\n",
       "    .dataframe thead th {\n",
       "        text-align: right;\n",
       "    }\n",
       "</style>\n",
       "<table border=\"1\" class=\"dataframe\">\n",
       "  <thead>\n",
       "    <tr style=\"text-align: right;\">\n",
       "      <th></th>\n",
       "      <th>K</th>\n",
       "      <th>Accuracy</th>\n",
       "    </tr>\n",
       "  </thead>\n",
       "  <tbody>\n",
       "    <tr>\n",
       "      <th>0</th>\n",
       "      <td>1</td>\n",
       "      <td>0.861702</td>\n",
       "    </tr>\n",
       "    <tr>\n",
       "      <th>1</th>\n",
       "      <td>2</td>\n",
       "      <td>0.797872</td>\n",
       "    </tr>\n",
       "    <tr>\n",
       "      <th>2</th>\n",
       "      <td>3</td>\n",
       "      <td>0.914894</td>\n",
       "    </tr>\n",
       "    <tr>\n",
       "      <th>3</th>\n",
       "      <td>4</td>\n",
       "      <td>0.893617</td>\n",
       "    </tr>\n",
       "    <tr>\n",
       "      <th>4</th>\n",
       "      <td>5</td>\n",
       "      <td>0.925532</td>\n",
       "    </tr>\n",
       "    <tr>\n",
       "      <th>5</th>\n",
       "      <td>6</td>\n",
       "      <td>0.893617</td>\n",
       "    </tr>\n",
       "    <tr>\n",
       "      <th>6</th>\n",
       "      <td>7</td>\n",
       "      <td>0.893617</td>\n",
       "    </tr>\n",
       "    <tr>\n",
       "      <th>7</th>\n",
       "      <td>8</td>\n",
       "      <td>0.882979</td>\n",
       "    </tr>\n",
       "    <tr>\n",
       "      <th>8</th>\n",
       "      <td>9</td>\n",
       "      <td>0.882979</td>\n",
       "    </tr>\n",
       "    <tr>\n",
       "      <th>9</th>\n",
       "      <td>10</td>\n",
       "      <td>0.882979</td>\n",
       "    </tr>\n",
       "  </tbody>\n",
       "</table>\n",
       "</div>"
      ],
      "text/plain": [
       "    K  Accuracy\n",
       "0   1  0.861702\n",
       "1   2  0.797872\n",
       "2   3  0.914894\n",
       "3   4  0.893617\n",
       "4   5  0.925532\n",
       "5   6  0.893617\n",
       "6   7  0.893617\n",
       "7   8  0.882979\n",
       "8   9  0.882979\n",
       "9  10  0.882979"
      ]
     },
     "execution_count": 218,
     "metadata": {},
     "output_type": "execute_result"
    }
   ],
   "source": [
    "df = pd.DataFrame({'K': L1, 'Accuracy': L2})\n",
    "df"
   ]
  },
  {
   "cell_type": "code",
   "execution_count": 217,
   "id": "4b13a165",
   "metadata": {},
   "outputs": [
    {
     "data": {
      "text/plain": [
       "<AxesSubplot:xlabel='K', ylabel='Accuracy'>"
      ]
     },
     "execution_count": 217,
     "metadata": {},
     "output_type": "execute_result"
    },
    {
     "data": {
      "image/png": "[encoded data removed]",
      "text/plain": [
       "<Figure size 432x288 with 1 Axes>"
      ]
     },
     "metadata": {
      "needs_background": "light"
     },
     "output_type": "display_data"
    }
   ],
   "source": [
    "sns.lineplot(data=df, x=\"K\", y=\"Accuracy\")"
   ]
  },
  {
   "cell_type": "code",
   "execution_count": 219,
   "id": "db644835",
   "metadata": {},
   "outputs": [
    {
     "data": {
      "text/plain": [
       "0.925531914893617"
      ]
     },
     "execution_count": 219,
     "metadata": {},
     "output_type": "execute_result"
    }
   ],
   "source": [
    "KNN = KNeighborsClassifier(n_neighbors = 5)\n",
    "KNN.fit(X_trainSTD, Y_train)\n",
    "KNN.score(X_testSTD, Y_test)"
   ]
  },
  {
   "cell_type": "code",
   "execution_count": 221,
   "id": "005bdec8",
   "metadata": {},
   "outputs": [
    {
     "data": {
      "image/png": "[encoded data removed]",
      "text/plain": [
       "<Figure size 576x576 with 2 Axes>"
      ]
     },
     "metadata": {
      "needs_background": "light"
     },
     "output_type": "display_data"
    }
   ],
   "source": [
    "KnnPredict = KNN.predict(X_testSTD)\n",
    "KnnConfusion = metrics.confusion_matrix(Y_test.values.argmax(axis=1), KnnPredict.argmax(axis=1))\n",
    "\n",
    "plt.figure(figsize=(8,8))\n",
    "sns.heatmap(KnnConfusion, annot=True, linewidths=1, square = True, cmap='coolwarm');\n",
    "plt.ylabel('True label');\n",
    "plt.xlabel('Predicted label');\n",
    "all_sample_title = 'Accuracy Score from score(): {93%} \\n Accuracy Score from predict(): {93%}'\n",
    "plt.title(all_sample_title, size = 20);\n",
    "\n",
    "# 0 = Second person\n",
    "# 1 = Thrid Person\n",
    "# 2 = first person"
   ]
  },
  {
   "cell_type": "markdown",
   "id": "b028711a",
   "metadata": {},
   "source": [
    "### so here's the breakdown by Class: First Person (84%), Third Person (94%), Second Person (100%)\n",
    "### Huge improvement over Logistic Regression for first person, and even for Third Person. second person still maxed out"
   ]
  },
  {
   "cell_type": "code",
   "execution_count": null,
   "id": "58127194",
   "metadata": {},
   "outputs": [],
   "source": []
  }
 ],
 "metadata": {
  "kernelspec": {
   "display_name": "Python 3",
   "language": "python",
   "name": "python3"
  },
  "language_info": {
   "codemirror_mode": {
    "name": "ipython",
    "version": 3
   },
   "file_extension": ".py",
   "mimetype": "text/x-python",
   "name": "python",
   "nbconvert_exporter": "python",
   "pygments_lexer": "ipython3",
   "version": "3.8.8"
  }
 },
 "nbformat": 4,
 "nbformat_minor": 5
}
